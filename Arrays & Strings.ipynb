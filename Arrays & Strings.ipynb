{
 "cells": [
  {
   "cell_type": "markdown",
   "id": "eb72764f",
   "metadata": {},
   "source": [
    "### Two Pointers"
   ]
  },
  {
   "cell_type": "code",
   "execution_count": 25,
   "id": "5d7ce5a0",
   "metadata": {},
   "outputs": [
    {
     "name": "stdout",
     "output_type": "stream",
     "text": [
      "racecar\n"
     ]
    },
    {
     "data": {
      "text/plain": [
       "True"
      ]
     },
     "execution_count": 25,
     "metadata": {},
     "output_type": "execute_result"
    }
   ],
   "source": [
    "def check_if_palindrome(s):\n",
    "    left = 0\n",
    "    right = len(s) - 1\n",
    "    \n",
    "    while left<right:\n",
    "        if s[left] != s[right]:\n",
    "            return False\n",
    "        left += 1\n",
    "        right += -1\n",
    "        \n",
    "    return True\n",
    "\n",
    "s = input()\n",
    "check_if_palindrome(s)\n"
   ]
  },
  {
   "cell_type": "code",
   "execution_count": 38,
   "id": "185e5f96",
   "metadata": {},
   "outputs": [
    {
     "data": {
      "text/plain": [
       "True"
      ]
     },
     "execution_count": 38,
     "metadata": {},
     "output_type": "execute_result"
    }
   ],
   "source": [
    "def check_for_targets(nums, target):\n",
    "    left = 0\n",
    "    right = len(nums) - 1\n",
    "    \n",
    "    while left < right:\n",
    "        curr = nums[left] + nums[right]\n",
    "        if curr == target:\n",
    "            return True\n",
    "        \n",
    "        if curr > target:\n",
    "            right -= 1\n",
    "        else:\n",
    "            left += 1\n",
    "    return False\n",
    "\n",
    "target = 13\n",
    "nums =  [1, 2, 4, 6, 8, 9, 14, 15]\n",
    "check_for_targets(nums,target)"
   ]
  },
  {
   "cell_type": "code",
   "execution_count": 42,
   "id": "af01486d",
   "metadata": {},
   "outputs": [
    {
     "data": {
      "text/plain": [
       "[1, 3, 4, 5, 6, 7, 20]"
      ]
     },
     "execution_count": 42,
     "metadata": {},
     "output_type": "execute_result"
    }
   ],
   "source": [
    "def combine(arr1, arr2):\n",
    "    ans=[]\n",
    "    i = j = 0\n",
    "    while i < len(arr1) and j <len(arr2):\n",
    "        if arr1[i] < arr2[j]:\n",
    "            ans.append(arr1[i])\n",
    "            i += 1\n",
    "        else:\n",
    "            ans.append(arr2[j])\n",
    "            j += 1\n",
    "    \n",
    "    while i < len(arr1):\n",
    "        ans.append(arr1[i])\n",
    "        i += 1\n",
    "        \n",
    "    while j < len(arr2):\n",
    "        ans.append(arr2[j])\n",
    "        j += 1\n",
    "    \n",
    "    return ans\n",
    "\n",
    "arr1 = [1,4,7,20]\n",
    "arr2 = [3,5,6]\n",
    "combine(arr1, arr2)"
   ]
  },
  {
   "cell_type": "code",
   "execution_count": 50,
   "id": "065d692f",
   "metadata": {},
   "outputs": [
    {
     "data": {
      "text/plain": [
       "False"
      ]
     },
     "execution_count": 50,
     "metadata": {},
     "output_type": "execute_result"
    }
   ],
   "source": [
    "# IsSubsequence\n",
    "\n",
    "def is_subsequence(s, t):\n",
    "    i = j = 0\n",
    "    while i <= len(s) and j < len(t):\n",
    "        if s[i] == t[j]:\n",
    "            i += 1\n",
    "        j += 1  \n",
    "    return i == len(s)\n",
    "    \n",
    "s = 'aec'\n",
    "t = 'abcde'\n",
    "is_subsequence(s,t)"
   ]
  },
  {
   "cell_type": "markdown",
   "id": "1d408a44",
   "metadata": {},
   "source": [
    "### Reverse String"
   ]
  },
  {
   "cell_type": "code",
   "execution_count": null,
   "id": "72a9ac3f",
   "metadata": {},
   "outputs": [],
   "source": [
    "class Solution(object):\n",
    "    def reverseString(self, s):\n",
    "        \"\"\"\n",
    "        :type s: List[str]\n",
    "        :rtype: None Do not return anything, modify s in-place instead.\n",
    "        \"\"\"\n",
    "        left, right =  0 , len(s) -1\n",
    "        while left < right:\n",
    "            #swap characters at left and right\n",
    "            s[left], s[right] = s[right], s[left]\n",
    "            #move the pointers\n",
    "            left += 1\n",
    "            right -= 1\n",
    "\n",
    "# Input array\n",
    "s = [\"h\", \"e\", \"l\", \"l\", \"o\"]\n",
    "# Call the reverseString method\n",
    "Solution().reverseString(s)\n",
    "print(s) "
   ]
  },
  {
   "cell_type": "markdown",
   "id": "cc2a7943",
   "metadata": {},
   "source": [
    "### Squares of a Sorted Array"
   ]
  },
  {
   "cell_type": "code",
   "execution_count": 8,
   "id": "449e1b5a",
   "metadata": {},
   "outputs": [
    {
     "name": "stdout",
     "output_type": "stream",
     "text": [
      "[0, 1, 9, 16, 100]\n"
     ]
    }
   ],
   "source": [
    "class Solution(object):\n",
    "    def sortedSquares(self, nums):\n",
    "        \"\"\"\n",
    "        :type nums: List[int]\n",
    "        :rtype: List[int]\n",
    "        \"\"\"\n",
    "        square = [x * x for x in nums]\n",
    "        square.sort()\n",
    "        return square\n",
    "    \n",
    "#test\n",
    "nums = [-4,-1,0,3,10]\n",
    "result = Solution().sortedSquares(nums)\n",
    "print (result)"
   ]
  },
  {
   "cell_type": "markdown",
   "id": "a31604e1",
   "metadata": {},
   "source": [
    "###  Maximum Average Subarray I"
   ]
  },
  {
   "cell_type": "code",
   "execution_count": 11,
   "id": "a9909f61",
   "metadata": {},
   "outputs": [
    {
     "name": "stdout",
     "output_type": "stream",
     "text": [
      "12.75\n"
     ]
    }
   ],
   "source": [
    "class Solution(object):\n",
    "    def findMaxAverage(self, nums, k):\n",
    "        \"\"\"\n",
    "        :type nums: List[int]\n",
    "        :type k: int\n",
    "        :rtype: float\n",
    "        \"\"\"\n",
    "        MaxSum = CurrentSum = sum(nums[:k])\n",
    "        for i in range(k,len(nums)):\n",
    "            CurrentSum += nums[i] - nums[i-k]\n",
    "            # if CurrentSum> MaxSum:\n",
    "            #     MaxSum = CurrentSum\n",
    "            MaxSum = max(MaxSum, CurrentSum)\n",
    "        return MaxSum/float(k)\n",
    "\n",
    "#test\n",
    "nums = [1,12,-5,-6,50,3]\n",
    "k = 4\n",
    "result = Solution ().findMaxAverage(nums, k)\n",
    "print(result)"
   ]
  },
  {
   "cell_type": "markdown",
   "id": "23b9add3",
   "metadata": {},
   "source": [
    "### "
   ]
  },
  {
   "cell_type": "code",
   "execution_count": null,
   "id": "403d3c1c",
   "metadata": {},
   "outputs": [],
   "source": []
  }
 ],
 "metadata": {
  "kernelspec": {
   "display_name": "Python 3 (ipykernel)",
   "language": "python",
   "name": "python3"
  },
  "language_info": {
   "codemirror_mode": {
    "name": "ipython",
    "version": 3
   },
   "file_extension": ".py",
   "mimetype": "text/x-python",
   "name": "python",
   "nbconvert_exporter": "python",
   "pygments_lexer": "ipython3",
   "version": "3.8.13"
  }
 },
 "nbformat": 4,
 "nbformat_minor": 5
}
